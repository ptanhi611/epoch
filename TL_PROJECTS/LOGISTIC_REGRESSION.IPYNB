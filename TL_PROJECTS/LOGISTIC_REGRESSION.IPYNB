{
 "cells": [
  {
   "cell_type": "markdown",
   "id": "3ee0c744",
   "metadata": {},
   "source": [
    "# LOGISTIC REGRESSION\n"
   ]
  },
  {
   "cell_type": "code",
   "execution_count": null,
   "id": "a24eb9a0",
   "metadata": {},
   "outputs": [],
   "source": []
  }
 ],
 "metadata": {
  "language_info": {
   "name": "python"
  }
 },
 "nbformat": 4,
 "nbformat_minor": 5
}
