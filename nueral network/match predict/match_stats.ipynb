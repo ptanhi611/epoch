{
 "cells": [
  {
   "cell_type": "code",
   "execution_count": null,
   "id": "7045b4cd",
   "metadata": {},
   "outputs": [],
   "source": [
    "import torch\n",
    "import pandas as pd\n",
    "import numpy as np"
   ]
  },
  {
   "cell_type": "code",
   "execution_count": null,
   "id": "f1d90b7c",
   "metadata": {},
   "outputs": [],
   "source": [
    "bbb_data = pd.read_csv(\"deliveries.csv\")\n",
    "matches_data = pd.read_csv(\"matches.csv\")\n",
    "\n"
   ]
  }
 ],
 "metadata": {
  "kernelspec": {
   "display_name": "base",
   "language": "python",
   "name": "python3"
  },
  "language_info": {
   "name": "python",
   "version": "3.8.3"
  }
 },
 "nbformat": 4,
 "nbformat_minor": 5
}
