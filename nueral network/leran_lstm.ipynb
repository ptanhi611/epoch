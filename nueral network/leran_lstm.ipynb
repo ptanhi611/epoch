{
 "cells": [
  {
   "cell_type": "code",
   "execution_count": 41,
   "id": "399b3849",
   "metadata": {},
   "outputs": [],
   "source": [
    "import numpy as np\n",
    "import os\n",
    "import pandas as pd\n"
   ]
  },
  {
   "cell_type": "code",
   "execution_count": 42,
   "id": "6d00be1d",
   "metadata": {},
   "outputs": [],
   "source": [
    "class Sigmoid():\n",
    "    def forward(self,inputs):\n",
    "        self.inputs = inputs\n",
    "        self.output = np.array(np.exp(inputs)/(1+np.exp(inputs)))\n",
    "    def backward(self):\n",
    "        self.dinputs = self.output*(1-self.output)\n",
    "\n",
    "class Tanh():\n",
    "    def forward(self,inputs):\n",
    "        self.inputs = inputs\n",
    "        self.output = np.array((np.exp(2*inputs)-1)/(np.exp(2*inputs)+1))\n",
    "    def backward(self,inputs):\n",
    "        self.dinputs = np.array(4*(np.exp(2*inputs)/((np.exp(2*inputs)+1)**2)))\n",
    "                                "
   ]
  },
  {
   "cell_type": "code",
   "execution_count": 43,
   "id": "3baf4e62",
   "metadata": {},
   "outputs": [],
   "source": [
    "def gen_weight(num):\n",
    "    weigths = 0.1*np.random.randn(num)\n",
    "    return weigths\n",
    "\n",
    "def gen_biases(num):\n",
    "    return np.zeros((1,num))\n",
    "\n"
   ]
  },
  {
   "cell_type": "code",
   "execution_count": 44,
   "id": "3d54869f",
   "metadata": {},
   "outputs": [],
   "source": [
    "class Forgot_gate():\n",
    "    def forward(self,inputs,short_memory):\n",
    "        fb = gen_biases(1)\n",
    "        ws = gen_weight(1)\n",
    "        wi = gen_weight(1)\n",
    "\n",
    "        Percent_Long = np.dot(short_memory,ws) + np.dot(inputs,wi) + fb\n",
    "\n",
    "        s = Sigmoid()\n",
    "\n",
    "        s.forward(Percent_Long)\n",
    "        return s.output\n",
    "    \n",
    "    def backward():\n",
    "        return 1\n",
    "\n",
    "\n",
    "class input_gate():\n",
    "    def forward(self,short_memory,inputs):\n",
    "\n",
    "\n",
    "        wi_for_poten_ltm = gen_weight(1)\n",
    "        ws_for_poten_ltm = gen_weight(1)\n",
    "        wi_for_per_of_poten_ltm = gen_weight(1)\n",
    "        ws_for_per_of_poten_ltm = gen_weight(1)\n",
    "        b_for_poten_ltm = gen_biases(1)\n",
    "        b_for_per_of_poten_ltm = gen_biases(1)\n",
    "\n",
    "\n",
    "        s = Sigmoid()\n",
    "        t = Tanh()\n",
    "\n",
    "        t.forward(np.dot(short_memory,ws_for_poten_ltm)+np.dot(inputs,wi_for_poten_ltm) + b_for_poten_ltm)\n",
    "        poten_ltm = t.output\n",
    "\n",
    "        s.forward(np.dot(short_memory,ws_for_per_of_poten_ltm)+np.dot(inputs,wi_for_per_of_poten_ltm) + b_for_per_of_poten_ltm)\n",
    "        per_poten_lm = s.output\n",
    "\n",
    "        return np.dot(poten_ltm,per_poten_lm)\n",
    "    \n",
    "    def backward():\n",
    "        return 1\n",
    "\n",
    "\n",
    "\n",
    "class output_gate():\n",
    "    def forward(self,ltm,stm,inputs):\n",
    "        w_for_long_memory = gen_weight(1)\n",
    "        b_for_long_memory = gen_biases(1)\n",
    "\n",
    "        wi_for_per_ltm = gen_weight(1)\n",
    "        ws_for_per_ltm = gen_weight(1)\n",
    "        b_for_per_ltm = gen_biases(1)\n",
    "\n",
    "        s = Sigmoid()\n",
    "        t = Tanh()\n",
    "\n",
    "        t.forward(np.dot(ltm,w_for_long_memory)+b_for_long_memory)\n",
    "        updated_stm = t.output\n",
    "\n",
    "        s.forward(np.dot(stm,ws_for_per_ltm)+b_for_per_ltm + np.dot(inputs,wi_for_per_ltm))\n",
    "        updated_per_stm = s.output\n",
    "\n",
    "        return np.dot(updated_per_stm,updated_stm)\n",
    "\n",
    "    def backward():\n",
    "        return 1\n",
    "\n",
    "\n",
    "   \n",
    "        \n",
    "\n",
    "\n"
   ]
  },
  {
   "cell_type": "code",
   "execution_count": 45,
   "id": "3d748a73",
   "metadata": {},
   "outputs": [],
   "source": [
    "def LTM_Cell(p_stm,p_ltm,x):\n",
    "    f_gate = Forgot_gate()\n",
    "    i_gate = input_gate()\n",
    "    o_gate = output_gate()\n",
    "\n",
    "    \n",
    "    per_of_p_ltm_to_remem = f_gate.forward(x,p_stm)\n",
    "    new_temp_ltm = i_gate.forward(p_stm,x)\n",
    "\n",
    "    new_ltm = p_ltm*per_of_p_ltm_to_remem+new_temp_ltm\n",
    "    new_stm = o_gate.forward(p_ltm,p_stm,x)\n",
    "\n",
    "\n",
    "    return new_ltm,new_stm"
   ]
  },
  {
   "cell_type": "code",
   "execution_count": 46,
   "id": "28f5a4a5",
   "metadata": {},
   "outputs": [
    {
     "name": "stdout",
     "output_type": "stream",
     "text": [
      "[[0.]] [[-0.01621928]]\n"
     ]
    }
   ],
   "source": [
    "my_data = [0.1,0.2,0.3,0.4]\n",
    "ltm=0\n",
    "stm=0\n",
    "\n",
    "for i in range(len(my_data)):    \n",
    "    stm,ltm = LTM_Cell(stm,ltm,my_data[i])\n",
    "\n",
    "print(ltm,stm)\n",
    "\n",
    "   "
   ]
  }
 ],
 "metadata": {
  "kernelspec": {
   "display_name": "base",
   "language": "python",
   "name": "python3"
  },
  "language_info": {
   "codemirror_mode": {
    "name": "ipython",
    "version": 3
   },
   "file_extension": ".py",
   "mimetype": "text/x-python",
   "name": "python",
   "nbconvert_exporter": "python",
   "pygments_lexer": "ipython3",
   "version": "3.8.3"
  }
 },
 "nbformat": 4,
 "nbformat_minor": 5
}
