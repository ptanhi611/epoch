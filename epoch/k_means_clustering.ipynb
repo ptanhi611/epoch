{
 "cells": [
  {
   "cell_type": "code",
   "execution_count": 2,
   "id": "92918400",
   "metadata": {},
   "outputs": [],
   "source": [
    "import numpy as np\n",
    "import pandas as pd \n",
    "import matplotlib.pyplot as plt \n"
   ]
  },
  {
   "cell_type": "code",
   "execution_count": 3,
   "id": "6d9129cb",
   "metadata": {},
   "outputs": [
    {
     "name": "stdout",
     "output_type": "stream",
     "text": [
      "d:\\AI\\epoch\n"
     ]
    }
   ],
   "source": [
    "import os\n",
    "print(os.getcwd())"
   ]
  },
  {
   "cell_type": "code",
   "execution_count": null,
   "id": "a45fb84a",
   "metadata": {},
   "outputs": [
    {
     "name": "stdout",
     "output_type": "stream",
     "text": [
      "         Longitude   Latitude\n",
      "554        80.1856    24.7931\n",
      "555        78.7026    25.8795\n",
      "556        79.2631    25.3956\n",
      "2474       80.1763    24.5708\n",
      "2475       80.1763    24.5708\n",
      "...            ...        ...\n",
      "156902  76.1733889    21.1735\n",
      "156903  75.6136667  21.826056\n",
      "157088       76.24       21.3\n",
      "157089  76.3519444  21.822917\n",
      "157090       76.33      21.83\n",
      "\n",
      "[8284 rows x 2 columns]\n"
     ]
    },
    {
     "name": "stderr",
     "output_type": "stream",
     "text": [
      "C:\\Users\\RISHIT\\AppData\\Local\\Temp\\ipykernel_22500\\258547114.py:1: DtypeWarning: Columns (9) have mixed types. Specify dtype option on import or set low_memory=False.\n",
      "  data = pd.read_csv(\"clustering_data.csv\")\n"
     ]
    }
   ],
   "source": [
    "data = pd.read_csv(\"clustering_data.csv\")\n",
    "MP_data = data[data[\"StateName\"]==\"MADHYA PRADESH\"]\n",
    "#print(MP_data)\n",
    "\n",
    "X = MP_data[[\"Longitude\",\"Latitude\"]].values\n",
    "print(X)\n",
    "\n"
   ]
  },
  {
   "cell_type": "code",
   "execution_count": null,
   "id": "120cd497",
   "metadata": {},
   "outputs": [],
   "source": [
    "def euclidian_distance(a,b):\n",
    "    return np.sqrt(np.sum((a-b)**2))\n",
    "\n",
    "def K_means_clustering(X,k,max_loops):\n",
    "    K_indices = np.random.choice(len(X),k,replace=False)\n",
    "    K_centres = X[K_indices]\n",
    "\n",
    "\n",
    "    for _ in range(max_loops):\n",
    "        closest_centre = []\n",
    "\n",
    "        for x in X:\n",
    "            K_distances = [euclidian_distance(x,k) for k in K_centres]\n",
    "            closest_centre.append(np.argmin(K_distances))\n",
    "\n",
    "\n",
    "        clusters = [[] for _ in range(k)]\n",
    "        refined_centers = []\n",
    "\n",
    "\n",
    "        for i in range(k):\n",
    "            clusters[i]=np.array([X[j] for j in range(len(X)) if i==closest_centre[j]])\n",
    "\n",
    "            if(len(clusters[i])>0):\n",
    "                refined_centers.append(np.mean(clusters[i],axis=0))\n",
    "            else:\n",
    "                refined_centers.append(K_centres[i])\n",
    "            \n",
    "        \n",
    "        refined_centers = np.array(refined_centers)\n",
    "\n",
    "        if(np.allclose(K_centres,refined_centers)):\n",
    "            print(\"clusters formed\")\n",
    "            break\n",
    "\n",
    "        K_centres = refined_centers\n",
    "    \n",
    "\n",
    "    return K_centres,clusters,closest_centre\n",
    "\n",
    "\n",
    "    \n",
    "    \n",
    "\n",
    "\n",
    "\n"
   ]
  },
  {
   "cell_type": "code",
   "execution_count": null,
   "id": "7a6758fc",
   "metadata": {},
   "outputs": [],
   "source": []
  }
 ],
 "metadata": {
  "kernelspec": {
   "display_name": "base",
   "language": "python",
   "name": "python3"
  },
  "language_info": {
   "codemirror_mode": {
    "name": "ipython",
    "version": 3
   },
   "file_extension": ".py",
   "mimetype": "text/x-python",
   "name": "python",
   "nbconvert_exporter": "python",
   "pygments_lexer": "ipython3",
   "version": "3.8.3"
  }
 },
 "nbformat": 4,
 "nbformat_minor": 5
}
