{
 "cells": [
  {
   "cell_type": "code",
   "execution_count": 19,
   "id": "92918400",
   "metadata": {},
   "outputs": [],
   "source": [
    "import numpy as np\n",
    "import pandas as pd \n",
    "import matplotlib.pyplot as plt\n",
    "from matplotlib.animation import FuncAnimation\n",
    "import geopandas as gpd\n",
    "import folium\n",
    "import contextily as ctx\n",
    "import plotly.graph_objects as go\n",
    "import plotly.express as px \n",
    "from shapely.geometry import Point\n",
    "from plotly.subplots import make_subplots\n",
    "\n"
   ]
  },
  {
   "cell_type": "code",
   "execution_count": 20,
   "id": "6d9129cb",
   "metadata": {},
   "outputs": [
    {
     "name": "stdout",
     "output_type": "stream",
     "text": [
      "d:\\AI\\epoch\n"
     ]
    }
   ],
   "source": [
    "import os\n",
    "print(os.getcwd())"
   ]
  },
  {
   "cell_type": "code",
   "execution_count": 21,
   "id": "a45fb84a",
   "metadata": {},
   "outputs": [
    {
     "name": "stderr",
     "output_type": "stream",
     "text": [
      "C:\\Users\\RISHIT\\AppData\\Local\\Temp\\ipykernel_22616\\4147230859.py:1: DtypeWarning: Columns (9) have mixed types. Specify dtype option on import or set low_memory=False.\n",
      "  data = pd.read_csv(\"clustering_data.csv\")\n",
      "C:\\Users\\RISHIT\\AppData\\Local\\Temp\\ipykernel_22616\\4147230859.py:5: SettingWithCopyWarning: \n",
      "A value is trying to be set on a copy of a slice from a DataFrame.\n",
      "Try using .loc[row_indexer,col_indexer] = value instead\n",
      "\n",
      "See the caveats in the documentation: https://pandas.pydata.org/pandas-docs/stable/user_guide/indexing.html#returning-a-view-versus-a-copy\n",
      "  MP_data[\"Longitude\"] = pd.to_numeric(MP_data[\"Longitude\"], errors='coerce')\n",
      "C:\\Users\\RISHIT\\AppData\\Local\\Temp\\ipykernel_22616\\4147230859.py:6: SettingWithCopyWarning: \n",
      "A value is trying to be set on a copy of a slice from a DataFrame.\n",
      "Try using .loc[row_indexer,col_indexer] = value instead\n",
      "\n",
      "See the caveats in the documentation: https://pandas.pydata.org/pandas-docs/stable/user_guide/indexing.html#returning-a-view-versus-a-copy\n",
      "  MP_data[\"Latitude\"] = pd.to_numeric(MP_data[\"Latitude\"], errors='coerce')\n"
     ]
    }
   ],
   "source": [
    "data = pd.read_csv(\"clustering_data.csv\")\n",
    "MP_data = data[data[\"StateName\"].str.upper()==\"MADHYA PRADESH\"]\n",
    "#print(MP_data)\n",
    "\n",
    "MP_data[\"Longitude\"] = pd.to_numeric(MP_data[\"Longitude\"], errors='coerce')\n",
    "MP_data[\"Latitude\"] = pd.to_numeric(MP_data[\"Latitude\"], errors='coerce')\n",
    "\n",
    "\n",
    "MP_data = MP_data.dropna(subset=[\"Longitude\",\"Latitude\"])\n",
    "MP_data = MP_data.drop_duplicates(subset=[\"Longitude\",\"Latitude\"])\n",
    "\n",
    "\n",
    "X = MP_data[[\"Longitude\",\"Latitude\"]].values\n",
    "# print(X)\n",
    "\n"
   ]
  },
  {
   "cell_type": "markdown",
   "id": "1a012671",
   "metadata": {},
   "source": [
    "# Main logic and Clustering "
   ]
  },
  {
   "cell_type": "code",
   "execution_count": 22,
   "id": "120cd497",
   "metadata": {},
   "outputs": [],
   "source": [
    "def euclidian_distance(a,b):            #Defining the euclidian distance function\n",
    "    return np.sqrt(np.sum((a-b)**2))\n",
    "\n",
    "def K_means_clustering(X,k,max_loops):\n",
    "    K_indices = np.random.choice(len(X),k,replace=False)                    #Choosing Random K centres for the cluster.\n",
    "    K_centres = X[K_indices]\n",
    "    cluster_history=[]\n",
    "\n",
    "\n",
    "    for _ in range(max_loops):\n",
    "        closest_centre = []\n",
    "\n",
    "        for x in X:\n",
    "            K_distances = [euclidian_distance(x,k) for k in K_centres]      #Calulating distance of eack point with respect to each k centres.\n",
    "            closest_centre.append(np.argmin(K_distances))                   #assigning the index of the closest center to a point x in X.\n",
    "\n",
    "\n",
    "        clusters = [[] for _ in range(k)]\n",
    "        refined_centers = []\n",
    "\n",
    "\n",
    "        for i in range(k):\n",
    "            clusters[i]=np.array([X[j] for j in range(len(X)) if i==closest_centre[j]])  ##Making clusters for eack k centres with the points assigned to them.\n",
    "\n",
    "\n",
    "            \"\"\"recalculating the k centers and updating it, keeping the centers as it is if no point assigned to it.\"\"\"\n",
    "\n",
    "            if(len(clusters[i])>0):\n",
    "                refined_centers.append(np.mean(clusters[i],axis=0))\n",
    "            else:\n",
    "                refined_centers.append(K_centres[i])\n",
    "            \n",
    "        \n",
    "        refined_centers = np.array(refined_centers)\n",
    "\n",
    "\n",
    "        \"\"\"Stopping the process if the previous and new centers are close enought or if maximum numer of iterations have been done, \n",
    "           the tolerance of the closeness could also be changed if required \"\"\"\n",
    "        \n",
    "\n",
    "        if(np.allclose(K_centres,refined_centers)):\n",
    "            print(\"clusters formed\")\n",
    "            break\n",
    "\n",
    "        K_centres = refined_centers\n",
    "\n",
    "        cluster_history.append((closest_centre,refined_centers))\n",
    "    \n",
    "\n",
    "    return K_centres,clusters,closest_centre,cluster_history"
   ]
  },
  {
   "cell_type": "markdown",
   "id": "0dd7bdd8",
   "metadata": {},
   "source": [
    "# Implementation & Cluster Visualization"
   ]
  },
  {
   "cell_type": "code",
   "execution_count": 23,
   "id": "a6e0b449",
   "metadata": {},
   "outputs": [
    {
     "name": "stdout",
     "output_type": "stream",
     "text": [
      "clusters formed\n"
     ]
    },
    {
     "name": "stderr",
     "output_type": "stream",
     "text": [
      "c:\\Users\\RISHIT\\miniconda3\\lib\\site-packages\\matplotlib\\animation.py:884: UserWarning: Animation was deleted without rendering anything. This is most likely not intended. To prevent deletion, assign the Animation to a variable, e.g. `anim`, that exists until you output the Animation using `plt.show()` or `anim.save()`.\n",
      "  warnings.warn(\n"
     ]
    },
    {
     "data": {
      "image/png": "[encoded data removed]",
      "text/plain": [
       "<Figure size 1000x1000 with 1 Axes>"
      ]
     },
     "metadata": {},
     "output_type": "display_data"
    }
   ],
   "source": [
    "k = 5\n",
    "_, _, _, cluster_history = K_means_clustering(X, k=k, max_loops=20)\n",
    "\n",
    "# ------------------------- Animation over MP map -------------------------\n",
    "def make_gdf(points):\n",
    "    return gpd.GeoDataFrame(geometry=[Point(lon, lat) for lon, lat in points], crs=\"EPSG:4326\").to_crs(epsg=3857)\n",
    "\n",
    "X_gdf = make_gdf(X)\n",
    "fig, ax = plt.subplots(figsize=(10, 10))\n",
    "colors = ['red', 'blue', 'green', 'orange', 'purple', 'cyan', 'magenta', 'yellow']\n",
    "\n",
    "def update(frame):\n",
    "    ax.clear()\n",
    "    assignments, centers = cluster_history[frame]\n",
    "    for i in range(k):\n",
    "        cluster_points = [X[j] for j in range(len(X)) if assignments[j] == i]\n",
    "        if cluster_points:\n",
    "            gdf = make_gdf(cluster_points)\n",
    "            gdf.plot(ax=ax, color=colors[i % len(colors)], markersize=15, label=f\"Cluster {i}\")\n",
    "\n",
    "    centers_gdf = make_gdf(centers)\n",
    "    centers_gdf.plot(ax=ax, color='black', marker='x', markersize=100)\n",
    "\n",
    "    ctx.add_basemap(ax, source=ctx.providers.OpenStreetMap.Mapnik)\n",
    "    ax.set_title(f\"K-Means Clustering on MP Map - Step {frame + 1}\")\n",
    "    ax.axis('off')\n",
    "    ax.legend(loc='upper right')\n",
    "\n",
    "ani = FuncAnimation(fig, update, frames=len(cluster_history), interval=1000, repeat=False)\n",
    "plt.show()"
   ]
  },
  {
   "cell_type": "code",
   "execution_count": 25,
   "id": "dc1d674d",
   "metadata": {},
   "outputs": [
    {
     "name": "stderr",
     "output_type": "stream",
     "text": [
      "c:\\Users\\RISHIT\\miniconda3\\lib\\site-packages\\matplotlib\\animation.py:884: UserWarning: Animation was deleted without rendering anything. This is most likely not intended. To prevent deletion, assign the Animation to a variable, e.g. `anim`, that exists until you output the Animation using `plt.show()` or `anim.save()`.\n",
      "  warnings.warn(\n"
     ]
    },
    {
     "data": {
      "image/png": "[encoded data removed]",
      "text/plain": [
       "<Figure size 1000x1000 with 1 Axes>"
      ]
     },
     "metadata": {},
     "output_type": "display_data"
    }
   ],
   "source": [
    "\n",
    "import pandas as pd\n",
    "import numpy as np\n",
    "import geopandas as gpd\n",
    "import matplotlib.pyplot as plt\n",
    "from shapely.geometry import Point\n",
    "from matplotlib.animation import FuncAnimation\n",
    "import contextily as ctx\n",
    "\n",
    "# Load data properly\n",
    "data = pd.read_csv(\"clustering_data.csv\", dtype={'Longitude': 'str', 'Latitude': 'str'}, low_memory=False)\n",
    "data = data[data[\"StateName\"].str.upper() == \"MADHYA PRADESH\"]\n",
    "\n",
    "data[\"Latitude\"] = pd.to_numeric(data[\"Latitude\"], errors='coerce')\n",
    "data[\"Longitude\"] = pd.to_numeric(data[\"Longitude\"], errors='coerce')\n",
    "\n",
    "data = data.dropna(subset=[\"Latitude\", \"Longitude\"])\n",
    "data = data.drop_duplicates(subset=[\"Latitude\", \"Longitude\"])\n",
    "X = data[[\"Longitude\", \"Latitude\"]].values\n",
    "\n",
    "def euclidean_distance(a, b):\n",
    "    return np.sqrt(np.sum((a - b)**2))\n",
    "\n",
    "def kmeans(X, k=5, max_iters=20):\n",
    "    centers = X[np.random.choice(len(X), k, replace=False)]\n",
    "    history = []\n",
    "\n",
    "    for _ in range(max_iters):\n",
    "        labels = [np.argmin([euclidean_distance(x, c) for c in centers]) for x in X]\n",
    "        new_centers = []\n",
    "\n",
    "        for i in range(k):\n",
    "            cluster_points = X[np.array(labels) == i]\n",
    "            if len(cluster_points) > 0:\n",
    "                new_centers.append(cluster_points.mean(axis=0))\n",
    "            else:\n",
    "                new_centers.append(centers[i])\n",
    "\n",
    "        history.append((labels.copy(), np.array(new_centers)))\n",
    "        if np.allclose(centers, new_centers):\n",
    "            break\n",
    "        centers = np.array(new_centers)\n",
    "\n",
    "    return history\n",
    "\n",
    "# Run clustering\n",
    "history = kmeans(X, k=5, max_iters=15)\n",
    "\n",
    "# Geo helper\n",
    "def to_gdf(points):\n",
    "    return gpd.GeoDataFrame(geometry=[Point(p) for p in points], crs=\"EPSG:4326\").to_crs(epsg=3857)\n",
    "\n",
    "base_gdf = to_gdf(X)\n",
    "\n",
    "# Plot + Animate\n",
    "fig, ax = plt.subplots(figsize=(10, 10))\n",
    "colors = ['red', 'blue', 'green', 'orange', 'purple', 'pink', 'cyan']\n",
    "\n",
    "def update(frame):\n",
    "    ax.clear()\n",
    "    labels, centers = history[frame]\n",
    "    for i in range(5):\n",
    "        cluster_points = X[np.array(labels) == i]\n",
    "        if len(cluster_points) > 0:\n",
    "            gdf = to_gdf(cluster_points)\n",
    "            gdf.plot(ax=ax, color=colors[i % len(colors)], markersize=20, label=f\"Cluster {i}\")\n",
    "    to_gdf(centers).plot(ax=ax, color='black', marker='x', markersize=100, label=\"Centers\")\n",
    "    ctx.add_basemap(ax, source=ctx.providers.OpenStreetMap.Mapnik)\n",
    "    ax.set_title(f\"K-Means on MP Map - Frame {frame+1}\")\n",
    "    ax.axis('off')\n",
    "    ax.legend()\n",
    "\n",
    "ani = FuncAnimation(fig, update, frames=len(history), interval=1000, repeat=False)\n",
    "plt.show()  # <--- animation stays alive because ani is stored\n"
   ]
  }
 ],
 "metadata": {
  "kernelspec": {
   "display_name": "base",
   "language": "python",
   "name": "python3"
  },
  "language_info": {
   "codemirror_mode": {
    "name": "ipython",
    "version": 3
   },
   "file_extension": ".py",
   "mimetype": "text/x-python",
   "name": "python",
   "nbconvert_exporter": "python",
   "pygments_lexer": "ipython3",
   "version": "3.8.3"
  }
 },
 "nbformat": 4,
 "nbformat_minor": 5
}
