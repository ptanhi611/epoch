{
 "cells": [
  {
   "cell_type": "code",
   "execution_count": 5,
   "id": "92918400",
   "metadata": {},
   "outputs": [],
   "source": [
    "import numpy as np\n",
    "import pandas as pd \n",
    "import matplotlib.pyplot as plt \n"
   ]
  },
  {
   "cell_type": "code",
   "execution_count": 3,
   "id": "6d9129cb",
   "metadata": {},
   "outputs": [
    {
     "name": "stdout",
     "output_type": "stream",
     "text": [
      "d:\\AI\\epoch\n"
     ]
    }
   ],
   "source": [
    "import os\n",
    "print(os.getcwd())"
   ]
  },
  {
   "cell_type": "code",
   "execution_count": null,
   "id": "a45fb84a",
   "metadata": {},
   "outputs": [
    {
     "name": "stdout",
     "output_type": "stream",
     "text": [
      "                   CircleName       RegionName         DivisionName  \\\n",
      "554     Madhya Pradesh Circle  Jabalpur Region  Chhatarpur Division   \n",
      "555     Madhya Pradesh Circle  Jabalpur Region  Chhatarpur Division   \n",
      "556     Madhya Pradesh Circle  Jabalpur Region  Chhatarpur Division   \n",
      "2474    Madhya Pradesh Circle  Jabalpur Region       Satna Division   \n",
      "2475    Madhya Pradesh Circle  Jabalpur Region       Satna Division   \n",
      "...                       ...              ...                  ...   \n",
      "156902  Madhya Pradesh Circle    Indore Region     Khandwa Division   \n",
      "156903  Madhya Pradesh Circle    Indore Region     Khandwa Division   \n",
      "157088  Madhya Pradesh Circle    Indore Region     Khandwa Division   \n",
      "157089  Madhya Pradesh Circle    Indore Region     Khandwa Division   \n",
      "157090  Madhya Pradesh Circle    Indore Region     Khandwa Division   \n",
      "\n",
      "                    OfficeName  Pincode OfficeType      Delivery    District  \\\n",
      "554                  Kudar B.O   472445         BO      Delivery      Niwari   \n",
      "555                Bhitari B.O   472445         BO      Delivery      Niwari   \n",
      "556           Shaktibheron B.O   472445         BO      Delivery      Niwari   \n",
      "2474              Barsobha B.O   488059         BO      Delivery       PANNA   \n",
      "2475          Deoriranwana B.O   488059         BO      Delivery       PANNA   \n",
      "...                        ...      ...        ...           ...         ...   \n",
      "156902             Sanawad S.O   451111         PO      Delivery    KHARGONE   \n",
      "156903     Un S.O (West Nimar)   451440         PO      Delivery    KHARGONE   \n",
      "157088    Ghaspura Khandwa S.O   450001         PO  Non Delivery  EAST NIMAR   \n",
      "157089  Jawar S.O (East Nimar)   450991         PO      Delivery  EAST NIMAR   \n",
      "157090           Kharkalan S.O   450051         PO      Delivery  EAST NIMAR   \n",
      "\n",
      "             StateName   Latitude   Longitude  \n",
      "554     MADHYA PRADESH    24.7931     80.1856  \n",
      "555     MADHYA PRADESH    25.8795     78.7026  \n",
      "556     MADHYA PRADESH    25.3956     79.2631  \n",
      "2474    MADHYA PRADESH    24.5708     80.1763  \n",
      "2475    MADHYA PRADESH    24.5708     80.1763  \n",
      "...                ...        ...         ...  \n",
      "156902  MADHYA PRADESH    21.1735  76.1733889  \n",
      "156903  MADHYA PRADESH  21.826056  75.6136667  \n",
      "157088  MADHYA PRADESH       21.3       76.24  \n",
      "157089  MADHYA PRADESH  21.822917  76.3519444  \n",
      "157090  MADHYA PRADESH      21.83       76.33  \n",
      "\n",
      "[8284 rows x 11 columns]\n"
     ]
    },
    {
     "name": "stderr",
     "output_type": "stream",
     "text": [
      "C:\\Users\\RISHIT\\AppData\\Local\\Temp\\ipykernel_31600\\976044154.py:1: DtypeWarning: Columns (9) have mixed types. Specify dtype option on import or set low_memory=False.\n",
      "  data = pd.read_csv(\"clustering_data.csv\")\n"
     ]
    }
   ],
   "source": [
    "data = pd.read_csv(\"clustering_data.csv\")\n",
    "MP_data = data[data[\"StateName\"]==\"MADHYA PRADESH\"]\n",
    "#print(MP_data)"
   ]
  },
  {
   "cell_type": "code",
   "execution_count": 9,
   "id": "120cd497",
   "metadata": {},
   "outputs": [],
   "source": [
    "def euclidian_distance(a,b):\n",
    "    return np.sqrt((a-b)**2)\n"
   ]
  },
  {
   "cell_type": "code",
   "execution_count": null,
   "id": "7a6758fc",
   "metadata": {},
   "outputs": [],
   "source": []
  }
 ],
 "metadata": {
  "kernelspec": {
   "display_name": "base",
   "language": "python",
   "name": "python3"
  },
  "language_info": {
   "codemirror_mode": {
    "name": "ipython",
    "version": 3
   },
   "file_extension": ".py",
   "mimetype": "text/x-python",
   "name": "python",
   "nbconvert_exporter": "python",
   "pygments_lexer": "ipython3",
   "version": "3.8.3"
  }
 },
 "nbformat": 4,
 "nbformat_minor": 5
}
